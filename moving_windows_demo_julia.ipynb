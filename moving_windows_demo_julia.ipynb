{
 "cells": [
  {
   "attachments": {},
   "cell_type": "markdown",
   "id": "d1d122ae",
   "metadata": {},
   "source": [
    "# Moving window operations\n",
    "\n",
    "Objective: apply a moving window algorithm along the lat and lon axes by applying a kernel function on the time axis."
   ]
  },
  {
   "cell_type": "code",
   "execution_count": 21,
   "id": "8b52bb93",
   "metadata": {},
   "outputs": [
    {
     "name": "stdout",
     "output_type": "stream",
     "text": [
      "Julia Version 1.9.1\n",
      "Commit 147bdf428cd (2023-06-07 08:27 UTC)\n",
      "Platform Info:\n",
      "  OS: macOS (arm64-apple-darwin22.4.0)\n",
      "  CPU: 10 × Apple M1 Pro\n",
      "  WORD_SIZE: 64\n",
      "  LIBM: libopenlibm\n",
      "  LLVM: libLLVM-14.0.6 (ORCJIT, apple-m1)\n",
      "  Threads: 20 on 8 virtual cores\n",
      "Environment:\n",
      "  JULIA_NUM_THREADS = 20\n",
      "nothing\n"
     ]
    },
    {
     "name": "stderr",
     "output_type": "stream",
     "text": [
      "\u001b[32m\u001b[1m  Activating\u001b[22m\u001b[39m project at `~/BGI/DeepCube/DaCuMoWin`\n"
     ]
    }
   ],
   "source": [
    "println(versioninfo())\n",
    "using Pkg; Pkg.activate(\".\"); Pkg.instantiate()\n",
    "using Zarr, EarthDataLab, YAXArrays, Statistics"
   ]
  },
  {
   "cell_type": "code",
   "execution_count": 22,
   "id": "4d6e90b4",
   "metadata": {},
   "outputs": [
    {
     "data": {
      "text/plain": [
       "YAXArray with the following dimensions\n",
       "Lon                 Axis with 40 Elements from 1 to 40\n",
       "Lat                 Axis with 20 Elements from 1 to 20\n",
       "Time                Axis with 10 Elements from 1 to 10\n",
       "Total size: 62.5 KB\n"
      ]
     },
     "metadata": {},
     "output_type": "display_data"
    }
   ],
   "source": [
    "# Create a dummy array\n",
    "a = Array{Union{Float64,Missing}}(rand(40,20,10))\n",
    "lon = RangeAxis(\"Lon\",1:40)\n",
    "lat = RangeAxis(\"Lat\",1:20)\n",
    "tim = RangeAxis(\"Time\",1:10)\n",
    "c = YAXArray([lon,lat,tim],a)"
   ]
  },
  {
   "cell_type": "code",
   "execution_count": 23,
   "id": "90cc3b58",
   "metadata": {},
   "outputs": [
    {
     "data": {
      "text/plain": [
       "YAXArray with the following dimensions\n",
       "x                   Axis with 1253 Elements from 18.70211622302644 to 28.899269063907617\n",
       "y                   Axis with 983 Elements from 42.299194879353976 to 34.30110854569159\n",
       "time                Axis with 4560 Elements from 2009-03-06T10:00:00 to 2021-08-29T10:00:00\n",
       "Variable            Axis with 5 elements: avg_rh ignition_points burned_areas lst_day evi \n",
       "units: unitless\n",
       "Total size: 104.62 GB\n"
      ]
     },
     "metadata": {},
     "output_type": "display_data"
    }
   ],
   "source": [
    "# access remote data cube\n",
    "\n",
    "rc = Cube(open_dataset(zopen(\"https://storage.de.cloud.ovh.net/v1/AUTH_84d6da8e37fe4bb5aea18902da8c1170/uc3/UC3SubCube_ts.zarr\", fill_as_missing=false)))\n"
   ]
  },
  {
   "cell_type": "code",
   "execution_count": 24,
   "id": "2be7cb20",
   "metadata": {},
   "outputs": [
    {
     "data": {
      "text/plain": [
       "YAXArray with the following dimensions\n",
       "x                   Axis with 13 Elements from 20.901182730245225 to 20.99891901945495\n",
       "y                   Axis with 12 Elements from 36.99700118972647 to 36.90740959128422\n",
       "units: unitless\n",
       "Total size: 624.0 bytes\n"
      ]
     },
     "metadata": {},
     "output_type": "display_data"
    }
   ],
   "source": [
    "# subset cube: 1 time step\n",
    "sc1d = subsetcube(rc, x = (20.9,21), y = (36.9,37), time = Date(2021,1,1), variable = \"evi\")"
   ]
  },
  {
   "cell_type": "code",
   "execution_count": 32,
   "id": "b94e3105",
   "metadata": {},
   "outputs": [
    {
     "data": {
      "text/plain": [
       "YAXArray with the following dimensions\n",
       "x                   Axis with 13 Elements from 20.901182730245225 to 20.99891901945495\n",
       "y                   Axis with 12 Elements from 36.99700118972647 to 36.90740959128422\n",
       "time                Axis with 3 Elements from 2021-01-01T10:00:00 to 2021-01-03T10:00:00\n",
       "units: unitless\n",
       "Total size: 1.83 KB\n"
      ]
     },
     "metadata": {},
     "output_type": "display_data"
    }
   ],
   "source": [
    "# subset cube: 10 time steps\n",
    "sc3d = subsetcube(rc, x = (20.9,21), y = (36.9,37), time = (Date(2021,1,1), Date(2021,1,4)), variable = \"evi\")"
   ]
  },
  {
   "cell_type": "code",
   "execution_count": 39,
   "id": "f0a92dcd",
   "metadata": {},
   "outputs": [
    {
     "data": {
      "text/plain": [
       "YAXArray with the following dimensions\n",
       "x                   Axis with 123 Elements from 20.005266745822755 to 20.99891901945495\n",
       "y                   Axis with 123 Elements from 36.99700118972647 to 36.003348916094275\n",
       "time                Axis with 104 Elements from 2021-01-01T10:00:00 to 2021-04-14T10:00:00\n",
       "units: unitless\n",
       "Total size: 6.0 MB\n"
      ]
     },
     "metadata": {},
     "output_type": "display_data"
    }
   ],
   "source": [
    "# subset cube: 10 time steps, 1 degree\n",
    "sc10d1deg = subsetcube(rc, x = (20,21), y = (36,37), time = (Date(2021,1,1), Date(2021,4,15)), variable = \"evi\")"
   ]
  },
  {
   "attachments": {},
   "cell_type": "markdown",
   "id": "5e679527",
   "metadata": {},
   "source": [
    "## Naive approach"
   ]
  },
  {
   "cell_type": "code",
   "execution_count": 27,
   "id": "0387ea4b",
   "metadata": {},
   "outputs": [
    {
     "data": {
      "text/plain": [
       "my_mapwindow (generic function with 1 method)"
      ]
     },
     "metadata": {},
     "output_type": "display_data"
    }
   ],
   "source": [
    "function my_mapwindow(f, img, window)\n",
    "    out = zeros(eltype(img), axes(img))\n",
    "    R = CartesianIndices(img)\n",
    "    I_first, I_last = first(R), last(R)\n",
    "    Δ = CartesianIndex(ntuple(x->window[x] ÷ 2, ndims(img)))\n",
    "    @inbounds @simd for I in R\n",
    "        patch = max(I_first, I-Δ):min(I_last, I+Δ)\n",
    "        out[I] = f(view(img, patch))\n",
    "    end\n",
    "    return out\n",
    "end"
   ]
  },
  {
   "cell_type": "code",
   "execution_count": 28,
   "id": "aa2c5f09",
   "metadata": {},
   "outputs": [
    {
     "name": "stdout",
     "output_type": "stream",
     "text": [
      "  0.039044 seconds (213.24 k allocations: 13.328 MiB, 88.98% compilation time)\n"
     ]
    }
   ],
   "source": [
    "@time my_mapwindow(mean, c.data, (3,3,3));"
   ]
  },
  {
   "cell_type": "code",
   "execution_count": 30,
   "id": "3ed6afbf",
   "metadata": {},
   "outputs": [
    {
     "name": "stdout",
     "output_type": "stream",
     "text": [
      " 28.356848 seconds (265.61 k allocations: 299.142 MiB, 0.15% gc time)\n"
     ]
    }
   ],
   "source": [
    "@time my_mapwindow(mean, sc1d.data, (3,3,1));"
   ]
  },
  {
   "cell_type": "code",
   "execution_count": 33,
   "id": "209feddb",
   "metadata": {},
   "outputs": [
    {
     "name": "stdout",
     "output_type": "stream",
     "text": [
      " 90.293991 seconds (1.81 M allocations: 954.776 MiB, 0.21% gc time, 0.32% compilation time)\n"
     ]
    }
   ],
   "source": [
    "@time my_mapwindow(mean, sc3d.data, (3,3,3));"
   ]
  },
  {
   "attachments": {},
   "cell_type": "markdown",
   "id": "3caa817b",
   "metadata": {},
   "source": [
    "## With YAXArrays functions mapCube and MovingWindow"
   ]
  },
  {
   "attachments": {},
   "cell_type": "markdown",
   "id": "d33e5093",
   "metadata": {},
   "source": [
    "`MovingWindow(desc, pre, after)`\n",
    "\n",
    "Constructs a `MovingWindow` object to be passed to an `InDims` constructor to define that the axis in `desc` shall participate in the inner function (i.e. shall be looped over), but inside the inner function `pre` values before and `after` values after the center value will be passed as well.\n",
    "\n",
    "For example passing `MovingWindow(\"Time\", 2, 0)` will loop over the time axis and always pass the current time step plus the 2 previous steps. So in the inner function the array will have an additional dimension of size 3. "
   ]
  },
  {
   "cell_type": "code",
   "execution_count": 34,
   "id": "1638bf9e",
   "metadata": {},
   "outputs": [
    {
     "name": "stdout",
     "output_type": "stream",
     "text": [
      "  0.203130 seconds (347.68 k allocations: 17.332 MiB, 221.86% compilation time)\n"
     ]
    },
    {
     "data": {
      "text/plain": [
       "YAXArray with the following dimensions\n",
       "Lon                 Axis with 40 Elements from 1 to 40\n",
       "Lat                 Axis with 20 Elements from 1 to 20\n",
       "Time                Axis with 10 Elements from 1 to 10\n",
       "Total size: 62.5 KB\n"
      ]
     },
     "metadata": {},
     "output_type": "display_data"
    }
   ],
   "source": [
    "# Define the input dimensions with time first (all time steps) and lon and lat each with one previous and one consecutive slice. \n",
    "indims = InDims( MovingWindow(\"Lon\",1,1), MovingWindow(\"Lat\",1,1))\n",
    "\n",
    "@time r1 = mapCube(c, indims=indims, outdims=OutDims()) do xout,xin\n",
    "    # Inside this function, xin will have size 1x3x3 (time x lon x lat)\n",
    "    # xout should have size 1 (time)\n",
    "    xout = mean(xin)\n",
    "end"
   ]
  },
  {
   "attachments": {},
   "cell_type": "markdown",
   "id": "6d958580",
   "metadata": {},
   "source": [
    "When applying a function on moving windows with mapCube, one should take care of susceptible **missing values**, as well as of what happens at the **edges of the cube**.\n",
    "\n",
    "Missing values need to be dealt with in the function called by `mapCube`. For example, using `skipmissing`, the missing values are ignored.\n",
    "\n",
    "Adding the keyword argument `window_oob_value` to `InDims` : if one of the input dimensions is a MowingWindow, this value will be used to fill out-of-bounds areas"
   ]
  },
  {
   "cell_type": "code",
   "execution_count": 35,
   "id": "f3f8e23e",
   "metadata": {},
   "outputs": [
    {
     "name": "stderr",
     "output_type": "stream",
     "text": [
      "\r\u001b[32mProgress:  50%|████████████████████▌                    |  ETA: 0:00:02\u001b[39m\u001b[K"
     ]
    },
    {
     "name": "stderr",
     "output_type": "stream",
     "text": [
      "\r\u001b[32mProgress:  75%|██████████████████████████████▊          |  ETA: 0:00:01\u001b[39m\u001b[K"
     ]
    },
    {
     "name": "stderr",
     "output_type": "stream",
     "text": [
      "\r\u001b[32mProgress: 100%|█████████████████████████████████████████| Time: 0:00:01\u001b[39m\u001b[K\n"
     ]
    },
    {
     "name": "stdout",
     "output_type": "stream",
     "text": [
      "  2.069208 seconds (662.83 k allocations: 42.706 MiB, 0.90% gc time, 119.14% compilation time)\n"
     ]
    },
    {
     "data": {
      "text/plain": [
       "YAXArray with the following dimensions\n",
       "x                   Axis with 13 Elements from 20.901182730245225 to 20.99891901945495\n",
       "y                   Axis with 12 Elements from 36.99700118972647 to 36.90740959128422\n",
       "Total size: 624.0 bytes\n"
      ]
     },
     "metadata": {},
     "output_type": "display_data"
    }
   ],
   "source": [
    "# Define the input dimensions with time first (all time steps) and lon and lat each with one previous and one consecutive slice. \n",
    "# set out-of-bounds values to -9999.0\n",
    "indims = InDims(MovingWindow(\"x\",1,1), MovingWindow(\"y\",1,1), window_oob_value = -9999.0)\n",
    "\n",
    "@time r1 = mapCube(sc1d, indims=indims) do xout,xin\n",
    "    # Inside this function, xin will have size 10x3x3 (time x lon x lat)\n",
    "    # xout should have size 10 (time)\n",
    "    xout[:] = mapslices(x->mean(skipmissing(x)), xin; dims = (1,2))\n",
    "end"
   ]
  },
  {
   "attachments": {},
   "cell_type": "markdown",
   "id": "4c258b25",
   "metadata": {},
   "source": [
    "Trying on larger subsets:\n",
    "\n",
    "- with 10 time steps"
   ]
  },
  {
   "cell_type": "code",
   "execution_count": 36,
   "id": "c7198983",
   "metadata": {},
   "outputs": [
    {
     "name": "stderr",
     "output_type": "stream",
     "text": [
      "\r\u001b[32mProgress:  50%|████████████████████▌                    |  ETA: 0:00:01\u001b[39m\u001b[K"
     ]
    },
    {
     "name": "stderr",
     "output_type": "stream",
     "text": [
      "\r\u001b[32mProgress: 100%|█████████████████████████████████████████| Time: 0:00:00\u001b[39m\u001b[K\n"
     ]
    },
    {
     "name": "stdout",
     "output_type": "stream",
     "text": [
      "  1.369130 seconds (2.32 M allocations: 146.202 MiB, 1.94% gc time, 266.34% compilation time)\n"
     ]
    },
    {
     "data": {
      "text/plain": [
       "YAXArray with the following dimensions\n",
       "x                   Axis with 13 Elements from 20.901182730245225 to 20.99891901945495\n",
       "y                   Axis with 12 Elements from 36.99700118972647 to 36.90740959128422\n",
       "time                Axis with 3 Elements from 2021-01-01T10:00:00 to 2021-01-03T10:00:00\n",
       "Total size: 1.83 KB\n"
      ]
     },
     "metadata": {},
     "output_type": "display_data"
    }
   ],
   "source": [
    "indims = InDims(MovingWindow(\"time\",1,1),  MovingWindow(\"x\",1,1), MovingWindow(\"y\",1,1), window_oob_value = -9999.0)\n",
    "\n",
    "@time r10 = mapCube(sc3d, indims=indims, outdims=OutDims()) do xout,xin\n",
    "    # Inside this function, xin will have size 1x3x3 (time x lon x lat)\n",
    "    # xout should have size 1 (time)\n",
    "    xout[] = mean(skipmissing(xin))\n",
    "end"
   ]
  },
  {
   "attachments": {},
   "cell_type": "markdown",
   "id": "b03fb891",
   "metadata": {},
   "source": [
    "- with 10 time steps and 100 times more spatial grid cells"
   ]
  },
  {
   "cell_type": "code",
   "execution_count": 40,
   "id": "e30f7f8e",
   "metadata": {},
   "outputs": [
    {
     "name": "stderr",
     "output_type": "stream",
     "text": [
      "\r\u001b[32mProgress:  50%|████████████████████▌                    |  ETA: 0:00:02\u001b[39m\u001b[K"
     ]
    },
    {
     "name": "stderr",
     "output_type": "stream",
     "text": [
      "\r\u001b[32mProgress:  75%|██████████████████████████████▊          |  ETA: 0:00:01\u001b[39m\u001b[K"
     ]
    },
    {
     "name": "stderr",
     "output_type": "stream",
     "text": [
      "\r\u001b[32mProgress: 100%|█████████████████████████████████████████| Time: 0:00:02\u001b[39m\u001b[K\n"
     ]
    },
    {
     "name": "stdout",
     "output_type": "stream",
     "text": [
      "  2.248003 seconds (25.52 M allocations: 1.353 GiB, 1.47% gc time, 23.19% compilation time)\n"
     ]
    },
    {
     "data": {
      "text/plain": [
       "YAXArray with the following dimensions\n",
       "x                   Axis with 123 Elements from 20.005266745822755 to 20.99891901945495\n",
       "y                   Axis with 123 Elements from 36.99700118972647 to 36.003348916094275\n",
       "time                Axis with 104 Elements from 2021-01-01T10:00:00 to 2021-04-14T10:00:00\n",
       "Total size: 6.0 MB\n"
      ]
     },
     "metadata": {},
     "output_type": "display_data"
    }
   ],
   "source": [
    "@time r101 = mapCube(sc10d1deg, indims=indims, outdims=OutDims()) do xout,xin\n",
    "    # Inside this function, xin will have size 1x3x3 (time x lon x lat)\n",
    "    # xout should have size 1 (time)\n",
    "    xout[] = mean(skipmissing(xin))\n",
    "end"
   ]
  }
 ],
 "metadata": {
  "@webio": {
   "lastCommId": null,
   "lastKernelId": null
  },
  "kernelspec": {
   "display_name": "Julia 1.9.1",
   "language": "julia",
   "name": "julia-1.9"
  },
  "language_info": {
   "file_extension": ".jl",
   "mimetype": "application/julia",
   "name": "julia",
   "version": "1.9.1"
  },
  "vscode": {
   "interpreter": {
    "hash": "c9d75d90f1c1b016cfb22ef2c2bad8167763bc71c36fdca7b572438d1e4f32ae"
   }
  }
 },
 "nbformat": 4,
 "nbformat_minor": 5
}
